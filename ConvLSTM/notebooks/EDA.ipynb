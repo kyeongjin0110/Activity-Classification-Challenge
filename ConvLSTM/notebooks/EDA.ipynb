{
 "cells": [
  {
   "cell_type": "markdown",
   "metadata": {},
   "source": [
    "## Exploratory Data Analysis"
   ]
  },
  {
   "cell_type": "markdown",
   "metadata": {
    "heading_collapsed": true
   },
   "source": [
    "### About the Dataset\n",
    "\n",
    "Name: **Human Activity Recognition Using Smartphones Data Set**  \n",
    "* The dataset can be downloaded at: [link](https://archive.ics.uci.edu/ml/datasets/human+activity+recognition+using+smartphones#)\n"
   ]
  },
  {
   "cell_type": "markdown",
   "metadata": {
    "hidden": true
   },
   "source": [
    "#### Facts:\n",
    "1. Number of subjects: **30** (19-48 years)\n",
    "2. Number of activities: **6** (walking, walking up, walking down, sitting, standing, laying)\n",
    "3. Raw Data:\n",
    "    * Frequency of capture: **50 Hz**\n",
    "    * Signals Captured: **6** (3-axis linear accelaration and 3-axis angular velocity)\n",
    "    * Sliding Window Length: **2.56 sec** (50% overlap)\n",
    "    * Datapoints per window: **128**\n",
    "4. Processed Data:\n",
    "    * Summary:\n",
    "        1. Statistics: **561** (calculated on each window, i.e. 128 datapoints)\n",
    "        2. Domain: **Time** and **Frequency**\n",
    "        3. Data Split: **70/30** (Subjects are exclusive to each split)\n",
    "        4. \"_Each line in the dataset is a 561-d vector, representing the summary statistics accross a period of 2.56 seconds, associated with an activity and the subject performing that activity._\"\n",
    "    * Non-Summary:\n",
    "        1. Filtered Split: **3** (body accelaration, gravitational accelaration, angular velocity)\n",
    "        2. Total Splits: **9** (1 each for x, y and z-axis)\n",
    "        3. \"_Each line in 1 out of these 9 files is a 128-d vector representing the low-pass filtered signal in a 2.56 second window._\"\n",
    "    * Signals are scaled to **\\[-1, 1]**"
   ]
  },
  {
   "cell_type": "markdown",
   "metadata": {},
   "source": [
    "### Code"
   ]
  },
  {
   "cell_type": "code",
   "execution_count": 3,
   "metadata": {},
   "outputs": [
    {
     "name": "stdout",
     "output_type": "stream",
     "text": [
      "Once deleted, variables cannot be recovered. Proceed (y/[n])? n\n",
      "Nothing done.\n"
     ]
    }
   ],
   "source": [
    "%reset"
   ]
  },
  {
   "cell_type": "markdown",
   "metadata": {},
   "source": [
    "#### Imports"
   ]
  },
  {
   "cell_type": "code",
   "execution_count": 1,
   "metadata": {
    "ExecuteTime": {
     "end_time": "2018-11-28T01:40:31.301806Z",
     "start_time": "2018-11-28T01:40:31.288981Z"
    }
   },
   "outputs": [],
   "source": [
    "import os\n",
    "import pandas as pd\n",
    "import numpy as np\n",
    "\n",
    "import matplotlib.pyplot as plt\n",
    "import seaborn as sns"
   ]
  },
  {
   "cell_type": "markdown",
   "metadata": {},
   "source": [
    "#### Variables"
   ]
  },
  {
   "cell_type": "code",
   "execution_count": 2,
   "metadata": {
    "ExecuteTime": {
     "end_time": "2018-11-28T01:40:32.559914Z",
     "start_time": "2018-11-28T01:40:32.554236Z"
    }
   },
   "outputs": [],
   "source": [
    "dataset_root = \"/media/ankurrc/new_volume/633_ml/project/code/dataset/UCI HAR Dataset/\""
   ]
  },
  {
   "cell_type": "markdown",
   "metadata": {},
   "source": [
    "#### Functions"
   ]
  },
  {
   "cell_type": "code",
   "execution_count": 3,
   "metadata": {
    "ExecuteTime": {
     "end_time": "2018-11-28T01:40:35.418444Z",
     "start_time": "2018-11-28T01:40:35.407364Z"
    }
   },
   "outputs": [],
   "source": [
    "def _load_data(file_path=None):\n",
    "    \"\"\"\n",
    "    Load data into a (rows, columns) format numpy array.\n",
    "    \"\"\"\n",
    "    data = pd.read_csv(file_path, delim_whitespace=True, header=None)\n",
    "    return data.values"
   ]
  },
  {
   "cell_type": "code",
   "execution_count": 4,
   "metadata": {
    "ExecuteTime": {
     "end_time": "2018-11-28T01:40:35.886409Z",
     "start_time": "2018-11-28T01:40:35.871171Z"
    }
   },
   "outputs": [],
   "source": [
    "def _load_group(root, filenames, prefix=\"train\"):\n",
    "    \"\"\"\n",
    "    Load a group of files and concatenate them. \n",
    "    Returns a (num_samples, time_steps, features) format numpy array.\n",
    "    \"\"\"\n",
    "    data = []\n",
    "    for filename in filenames:\n",
    "        file_path = os.path.join(root, filename)\n",
    "        data.append(_load_data(file_path))\n",
    "        \n",
    "    # stack along axis-3; Equivalent to np.concatenate(a[:,:,np.newaxis], b[:, ;, np.newaxis], axis=2)\n",
    "    data = np.dstack(data)\n",
    "    return data"
   ]
  },
  {
   "cell_type": "code",
   "execution_count": 5,
   "metadata": {
    "ExecuteTime": {
     "end_time": "2018-11-28T01:40:36.495095Z",
     "start_time": "2018-11-28T01:40:36.448150Z"
    }
   },
   "outputs": [],
   "source": [
    "def load_dataset(dataset_root, split=\"train\"):\n",
    "    \"\"\"\n",
    "    Loads X and y.\n",
    "    \"\"\"\n",
    "    files_root = os.path.join(dataset_root, \"{prefix}/Inertial Signals/\".format(prefix=split))\n",
    "    filenames = os.listdir(files_root)\n",
    "    # load X\n",
    "    X = _load_group(files_root, filenames)\n",
    "    # load y\n",
    "    label_file_path = os.path.join(dataset_root, \"{prefix}/y_{prefix}.txt\".format(prefix=split))\n",
    "    y = _load_data(label_file_path)\n",
    "    \n",
    "    return X, y"
   ]
  },
  {
   "cell_type": "code",
   "execution_count": 6,
   "metadata": {
    "ExecuteTime": {
     "end_time": "2018-11-28T01:40:37.224681Z",
     "start_time": "2018-11-28T01:40:37.195490Z"
    }
   },
   "outputs": [],
   "source": [
    "def get_label_breakup(data):\n",
    "    \"\"\"\n",
    "    Gets a breakup of counts for each label in 'y'.\n",
    "    \"\"\"\n",
    "    df = pd.DataFrame(data, columns=[\"y\"])\n",
    "    counts = df.groupby(\"y\").size()\n",
    "    #counts.plot(kind=\"pie\", colormap=\"GnBu\", legend=True, title=\"Count Breakup\", figsize=(10,10)); \n",
    "    counts = counts.values\n",
    "\n",
    "    for i in range(len(counts)):\n",
    "        percent = counts[i] / len(df) * 100\n",
    "        print('Class={},\\t total={},\\t percentage={:.3f}'.format(i+1, counts[i], percent))  "
   ]
  },
  {
   "cell_type": "code",
   "execution_count": null,
   "metadata": {},
   "outputs": [],
   "source": [
    "def "
   ]
  },
  {
   "cell_type": "code",
   "execution_count": 75,
   "metadata": {
    "ExecuteTime": {
     "end_time": "2018-11-21T23:39:52.853856Z",
     "start_time": "2018-11-21T23:39:51.636658Z"
    }
   },
   "outputs": [
    {
     "name": "stdout",
     "output_type": "stream",
     "text": [
      "Class=1,\t total=496,\t percentage=16.831\n",
      "Class=2,\t total=471,\t percentage=15.982\n",
      "Class=3,\t total=420,\t percentage=14.252\n",
      "Class=4,\t total=491,\t percentage=16.661\n",
      "Class=5,\t total=532,\t percentage=18.052\n",
      "Class=6,\t total=537,\t percentage=18.222\n"
     ]
    }
   ],
   "source": [
    "_, y = load_dataset(dataset_root, split=\"test\")\n",
    "get_label_breakup(y)"
   ]
  }
 ],
 "metadata": {
  "kernelspec": {
   "display_name": "Python [conda env:fastai-cpu]",
   "language": "python",
   "name": "conda-env-fastai-cpu-py"
  },
  "language_info": {
   "codemirror_mode": {
    "name": "ipython",
    "version": 3
   },
   "file_extension": ".py",
   "mimetype": "text/x-python",
   "name": "python",
   "nbconvert_exporter": "python",
   "pygments_lexer": "ipython3",
   "version": "3.6.4"
  },
  "varInspector": {
   "cols": {
    "lenName": 16,
    "lenType": 16,
    "lenVar": 40
   },
   "kernels_config": {
    "python": {
     "delete_cmd_postfix": "",
     "delete_cmd_prefix": "del ",
     "library": "var_list.py",
     "varRefreshCmd": "print(var_dic_list())"
    },
    "r": {
     "delete_cmd_postfix": ") ",
     "delete_cmd_prefix": "rm(",
     "library": "var_list.r",
     "varRefreshCmd": "cat(var_dic_list()) "
    }
   },
   "position": {
    "height": "298px",
    "left": "1088px",
    "right": "20px",
    "top": "222px",
    "width": "474px"
   },
   "types_to_exclude": [
    "module",
    "function",
    "builtin_function_or_method",
    "instance",
    "_Feature"
   ],
   "window_display": false
  }
 },
 "nbformat": 4,
 "nbformat_minor": 2
}
